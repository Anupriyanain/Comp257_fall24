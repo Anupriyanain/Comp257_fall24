{
  "nbformat": 4,
  "nbformat_minor": 0,
  "metadata": {
    "colab": {
      "provenance": []
    },
    "kernelspec": {
      "name": "python3",
      "display_name": "Python 3"
    },
    "language_info": {
      "name": "python"
    }
  },
  "cells": [
    {
      "cell_type": "markdown",
      "source": [
        "K-Means and DBSCAN Clustering\n"
      ],
      "metadata": {
        "id": "8t1SzDYZVBaq"
      }
    },
    {
      "source": [
        "from sklearn.datasets import fetch_olivetti_faces\n",
        "olivetti_faces = fetch_olivetti_faces()"
      ],
      "cell_type": "code",
      "metadata": {
        "colab": {
          "base_uri": "https://localhost:8080/"
        },
        "id": "vps73kWIzur8",
        "outputId": "279887a0-4808-463e-84b8-e6dcd095534c"
      },
      "execution_count": 1,
      "outputs": [
        {
          "output_type": "stream",
          "name": "stdout",
          "text": [
            "downloading Olivetti faces from https://ndownloader.figshare.com/files/5976027 to /root/scikit_learn_data\n"
          ]
        }
      ]
    },
    {
      "source": [
        "from sklearn.model_selection import train_test_split\n",
        "\n",
        "X_train, X_val, y_train, y_val = train_test_split(olivetti_faces.data, olivetti_faces.target, test_size=0.2, random_state=42, stratify=olivetti_faces.target)\n",
        "X_val, X_test, y_val, y_test = train_test_split(X_val, y_val, test_size=0.5, random_state=42, stratify=y_val)"
      ],
      "cell_type": "code",
      "metadata": {
        "id": "suKKH8AAzx3S"
      },
      "execution_count": 2,
      "outputs": []
    },
    {
      "cell_type": "markdown",
      "source": [
        "Rationale for the Split Ratio:\n",
        "\n",
        "The split ratio of 80% for training, 10% for validation, and 10% for testing is a common practice in machine learning. Here's a more detailed explanation of the reasoning behind this split:\n",
        "\n",
        "Training set (80%): A large training set is necessary to learn meaningful patterns in the data. With 320 images (80% of 400), the model has enough data to learn the underlying structure of the Olivetti faces dataset. This large training set helps to reduce overfitting, as the model is less likely to memorize the training data.\n",
        "Validation set (10%): A validation set is necessary for hyperparameter tuning. With 40 images (10% of 400), we have a decent-sized set to evaluate the model's performance during hyperparameter tuning. This set is used to evaluate the model's performance on unseen data during the training process, allowing us to select the best hyperparameters.\n",
        "Test set (10%): A test set is necessary to evaluate the final model's performance on completely unseen data. With 40 images (10% of 400), we have a small but sufficient set to evaluate the model's performance. This set is used to estimate the model's performance in real-world scenarios.\n",
        "Why not a different split ratio?\n",
        "\n",
        "More training data: Allocating more than 80% of the data for training might lead to overfitting, as the model may memorize the training data rather than learning generalizable patterns.\n",
        "Less training data: Allocating less than 80% of the data for training might result in underfitting, as the model may not have enough data to learn meaningful patterns.\n",
        "More validation data: Allocating more than 10% of the data for validation might reduce the size of the training set, leading to underfitting.\n",
        "Less validation data: Allocating less than 10% of the data for validation might result in overfitting, as the model may not have enough data to evaluate its performance during hyperparameter tuning.\n",
        "Stratified sampling:\n",
        "\n",
        "Using stratified sampling ensures that each set has the same number of images per person, which is essential for maintaining the same class distribution in each set. This is particularly important in this dataset, as we have a small number of images per person (10 images per person). Stratified sampling helps to prevent any one class from dominating the training or testing process."
      ],
      "metadata": {
        "id": "i0Rk_nWJ0Fyh"
      }
    },
    {
      "source": [
        "from sklearn.svm import SVC\n",
        "from sklearn.model_selection import KFold\n",
        "from sklearn.metrics import accuracy_score\n",
        "\n",
        "# Define the SVM classifier\n",
        "svm_classifier = SVC(kernel='linear', C=1)\n",
        "\n",
        "# Define the k-fold cross validation object\n",
        "kfold = KFold(n_splits=5, shuffle=True, random_state=42)\n",
        "\n",
        "# Initialize the accuracy scores\n",
        "accuracy_scores = []\n",
        "\n",
        "# Train and evaluate the model using k-fold cross validation\n",
        "for train_index, val_index in kfold.split(X_train, y_train):\n",
        "    X_train_fold = X_train[train_index]\n",
        "    y_train_fold = y_train[train_index]\n",
        "    X_val_fold = X_train[val_index]\n",
        "    y_val_fold = y_train[val_index]\n",
        "\n",
        "    # Train the SVM classifier on the current fold\n",
        "    svm_classifier.fit(X_train_fold, y_train_fold)\n",
        "\n",
        "    # Predict on the validation set\n",
        "    y_pred = svm_classifier.predict(X_val_fold)\n",
        "\n",
        "    # Calculate the accuracy score\n",
        "    accuracy = accuracy_score(y_val_fold, y_pred)\n",
        "    accuracy_scores.append(accuracy)\n",
        "\n",
        "# Calculate the average accuracy score\n",
        "avg_accuracy = sum(accuracy_scores) / len(accuracy_scores)\n",
        "\n",
        "print(\"Average accuracy on the validation set:\", avg_accuracy)"
      ],
      "cell_type": "code",
      "metadata": {
        "colab": {
          "base_uri": "https://localhost:8080/"
        },
        "id": "KhiQIaGs0LGr",
        "outputId": "d7fb82f8-a796-4781-af52-ab4c5edc13a2"
      },
      "execution_count": 3,
      "outputs": [
        {
          "output_type": "stream",
          "name": "stdout",
          "text": [
            "Average accuracy on the validation set: 0.940625\n"
          ]
        }
      ]
    },
    {
      "source": [
        "from sklearn.cluster import KMeans\n",
        "from sklearn.metrics import silhouette_score\n",
        "\n",
        "# Initialize the K-Means object\n",
        "kmeans = KMeans(n_clusters=5, random_state=42)\n",
        "\n",
        "# Fit the K-Means model to the data\n",
        "kmeans.fit(X_train)\n",
        "\n",
        "# Get the cluster centroids\n",
        "centroids = kmeans.cluster_centers_\n",
        "\n",
        "# Project the data onto the lower-dimensional space\n",
        "X_reduced = kmeans.transform(X_train)\n",
        "\n",
        "# Calculate the silhouette score for each cluster\n",
        "silhouette_avg = silhouette_score(X_train, kmeans.labels_)\n",
        "print(\"Silhouette score:\", silhouette_avg)\n",
        "\n",
        "# Determine the optimal number of clusters using the silhouette score\n",
        "silhouette_scores = []\n",
        "for n_clusters in range(2, 11):\n",
        "    kmeans = KMeans(n_clusters=n_clusters, random_state=42)\n",
        "    kmeans.fit(X_train)\n",
        "    silhouette_avg = silhouette_score(X_train, kmeans.labels_)\n",
        "    silhouette_scores.append(silhouette_avg)\n",
        "\n",
        "# Plot the silhouette scores to choose the optimal number of clusters\n",
        "import matplotlib.pyplot as plt\n",
        "plt.plot(range(2, 11), silhouette_scores)\n",
        "plt.xlabel(\"Number of Clusters\")\n",
        "plt.ylabel(\"Silhouette Score\")\n",
        "plt.title(\"Silhouette Score vs. Number of Clusters\")\n",
        "plt.show()"
      ],
      "cell_type": "code",
      "metadata": {
        "colab": {
          "base_uri": "https://localhost:8080/",
          "height": 490
        },
        "id": "DogKzX601Ggv",
        "outputId": "5653b21a-4f8a-4e7b-cf60-36528911d686"
      },
      "execution_count": 4,
      "outputs": [
        {
          "output_type": "stream",
          "name": "stdout",
          "text": [
            "Silhouette score: 0.097405605\n"
          ]
        },
        {
          "output_type": "display_data",
          "data": {
            "text/plain": [
              "<Figure size 640x480 with 1 Axes>"
            ],
            "image/png": "[encoded data removed]"
          },
          "metadata": {}
        }
      ]
    },
    {
      "source": [
        "from sklearn.svm import SVC\n",
        "from sklearn.model_selection import KFold, GridSearchCV\n",
        "from sklearn.metrics import accuracy_score\n",
        "\n",
        "# Define the SVM classifier\n",
        "svm_classifier = SVC(kernel='linear', C=1)\n",
        "\n",
        "# Define the hyperparameter tuning space\n",
        "param_grid = {\n",
        "    'kernel': ['linear', 'poly', 'rbf'],\n",
        "    'C': [0.1, 1, 10]\n",
        "}\n",
        "\n",
        "# Define the k-fold cross validation object\n",
        "kfold = KFold(n_splits=5, shuffle=True, random_state=42)\n",
        "\n",
        "# Perform hyperparameter tuning using GridSearchCV\n",
        "grid_search = GridSearchCV(svm_classifier, param_grid, cv=kfold, scoring='accuracy')\n",
        "grid_search.fit(X_reduced, y_train)\n",
        "\n",
        "# Get the best hyperparameters and the corresponding accuracy score\n",
        "best_params = grid_search.best_params_\n",
        "best_accuracy = grid_search.best_score_\n",
        "\n",
        "print(\"Best hyperparameters:\", best_params)\n",
        "print(\"Best accuracy score:\", best_accuracy)\n",
        "\n",
        "# Train the SVM classifier with the best hyperparameters\n",
        "svm_classifier_best = SVC(**best_params)\n",
        "svm_classifier_best.fit(X_reduced, y_train)\n",
        "\n",
        "# Evaluate the model on the validation set\n",
        "y_pred = svm_classifier_best.predict(X_reduced)\n",
        "accuracy = accuracy_score(y_train, y_pred)\n",
        "\n",
        "print(\"Average accuracy on the validation set:\", accuracy)"
      ],
      "cell_type": "code",
      "metadata": {
        "colab": {
          "base_uri": "https://localhost:8080/"
        },
        "id": "fhCbn66a1Mz5",
        "outputId": "410f4846-7901-445f-fad1-a9b7218244aa"
      },
      "execution_count": 5,
      "outputs": [
        {
          "output_type": "stream",
          "name": "stdout",
          "text": [
            "Best hyperparameters: {'C': 10, 'kernel': 'poly'}\n",
            "Best accuracy score: 0.584375\n",
            "Average accuracy on the validation set: 0.990625\n"
          ]
        }
      ]
    },
    {
      "source": [
        "from sklearn.feature_extraction.image import extract_patches_2d\n",
        "from sklearn.cluster import DBSCAN\n",
        "\n",
        "patches = extract_patches_2d(olivetti_faces.images, patch_size=(20, 20), max_patches=400)\n",
        "patches = patches.reshape(-1, 20*20)\n",
        "\n",
        "dbscan = DBSCAN(eps=0.5, min_samples=10, metric='euclidean')\n",
        "dbscan.fit(patches)\n",
        "\n",
        "print(\"Number of clusters:\", len(set(dbscan.labels_)))"
      ],
      "cell_type": "code",
      "metadata": {
        "colab": {
          "base_uri": "https://localhost:8080/"
        },
        "id": "rMoK8uZn1Ss8",
        "outputId": "65aa15fd-6899-490c-c6c2-38f955b47212"
      },
      "execution_count": 6,
      "outputs": [
        {
          "output_type": "stream",
          "name": "stdout",
          "text": [
            "Number of clusters: 1\n"
          ]
        }
      ]
    }
  ]
}